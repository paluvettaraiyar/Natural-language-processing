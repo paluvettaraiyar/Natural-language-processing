{
 "cells": [
  {
   "cell_type": "code",
   "execution_count": 28,
   "id": "e6ae1879",
   "metadata": {},
   "outputs": [
    {
     "name": "stderr",
     "output_type": "stream",
     "text": [
      "[nltk_data] Downloading package punkt to\n",
      "[nltk_data]     C:\\Users\\navan\\AppData\\Roaming\\nltk_data...\n",
      "[nltk_data]   Package punkt is already up-to-date!\n",
      "[nltk_data] Downloading package stopwords to\n",
      "[nltk_data]     C:\\Users\\navan\\AppData\\Roaming\\nltk_data...\n",
      "[nltk_data]   Package stopwords is already up-to-date!\n"
     ]
    }
   ],
   "source": [
    "import nltk \n",
    "import re\n",
    "from nltk.stem import PorterStemmer\n",
    "from nltk.corpus import stopwords\n",
    "nltk.download('punkt')\n",
    "nltk.download('stopwords')\n",
    "import sklearn\n",
    "from sklearn.feature_extraction.text import CountVectorizer,TfidfVectorizer"
   ]
  },
  {
   "cell_type": "code",
   "execution_count": 6,
   "id": "79a92ae1",
   "metadata": {},
   "outputs": [
    {
     "name": "stdout",
     "output_type": "stream",
     "text": [
      "I am Mr.X , I am a programmer! , Aspring data scientist; Studing NLTK in you! tube.\n"
     ]
    }
   ],
   "source": [
    "text = \"I am Mr.X , I am a programmer! , Aspring data scientist; Studing NLTK in you! tube.\"\n",
    "print(text)"
   ]
  },
  {
   "cell_type": "code",
   "execution_count": 7,
   "id": "f21ecd32",
   "metadata": {},
   "outputs": [
    {
     "name": "stdout",
     "output_type": "stream",
     "text": [
      "['I am Mr.X , I am a programmer!', ', Aspring data scientist; Studing NLTK in you!', 'tube.']\n",
      "3\n"
     ]
    }
   ],
   "source": [
    "print(nltk.sent_tokenize(text))\n",
    "print(len(nltk.sent_tokenize(text)))"
   ]
  },
  {
   "cell_type": "code",
   "execution_count": 8,
   "id": "cf0c818e",
   "metadata": {},
   "outputs": [
    {
     "name": "stdout",
     "output_type": "stream",
     "text": [
      "['I', 'am', 'Mr.X', ',', 'I', 'am', 'a', 'programmer', '!', ',', 'Aspring', 'data', 'scientist', '?', 'Studing', 'NLTK', 'in', 'you', '!', 'tube', '.']\n",
      "21\n"
     ]
    }
   ],
   "source": [
    "text2 = \"I am Mr.X , I am a programmer! , Aspring data scientist? Studing NLTK in you! tube.\"\n",
    "print(nltk.word_tokenize(text2))\n",
    "print(len(nltk.word_tokenize(text2)))"
   ]
  },
  {
   "cell_type": "code",
   "execution_count": 9,
   "id": "02cbc47a",
   "metadata": {},
   "outputs": [],
   "source": [
    "elon_data = \"\"\"Elon Reeve Musk (/ˈiːlɒn/ EE-lon; born June 28, 1971) is a business magnate and investor. He is the founder, CEO and chief engineer of SpaceX; angel investor, CEO and product architect of Tesla, Inc.; owner and CEO of Twitter, Inc.; founder of the Boring Company; co-founder of Neuralink and OpenAI; and president of the philanthropic Musk Foundation. Musk is the second-wealthiest person in the world, according to both the Bloomberg Billionaires Index and Forbes's Real Time Billionaires list as of May 2023 primarily from his ownership stakes in Tesla and SpaceX, with an estimated net worth of around $167 billion according to the Bloomberg and $176.2 billion according to Forbes.[4][5][6][7]\n",
    "\n",
    "Musk was born in Pretoria, South Africa, and briefly attended the University of Pretoria before moving to Canada at age 18, acquiring citizenship through his Canadian-born mother. Two years later, he matriculated at Queen's University and transferred to the University of Pennsylvania, where he received bachelor's degrees in economics and physics. He moved to California in 1995 to attend Stanford University. After two days, he dropped out and, with his brother Kimbal, co-founded the online city guide software company Zip2. In 1999, Zip2 was acquired by Compaq for $307 million and Musk co-founded X.com, a direct bank. X.com merged with Confinity in 2000 to form PayPal, which eBay acquired for $1.5 billion in 2002.\n",
    "\n",
    "With $175.8 million, Musk founded SpaceX in 2002, a spaceflight services company. In 2004, he was an early investor in the electric vehicle manufacturer Tesla Motors, Inc. (now Tesla, Inc.). He became its chairman and product architect, assuming the position of CEO in 2008. In 2006, he helped create SolarCity, a solar energy company that was later acquired by Tesla and became Tesla Energy. In 2015, he co-founded OpenAI, a nonprofit artificial intelligence research company. The following year, he co-founded Neuralink—a neurotechnology company developing brain–computer interfaces—and the Boring Company, a tunnel construction company. Musk has also proposed a hyperloop high-speed vactrain transportation system. In 2022, his acquisition of Twitter for $44 billion was completed.\n",
    "\n",
    "Musk has expressed views that have made him a polarizing figure. He has been criticized for making unscientific and misleading statements, including that of spreading COVID-19 misinformation. In 2018, the U.S. Securities and Exchange Commission (SEC) sued Musk for falsely tweeting that he had secured funding for a private takeover of Tesla. Musk stepped down as chairman of Tesla and paid a $20 million fine as part of a settlement agreement with the SEC.\"\"\""
   ]
  },
  {
   "cell_type": "code",
   "execution_count": 10,
   "id": "9c28c130",
   "metadata": {},
   "outputs": [
    {
     "name": "stdout",
     "output_type": "stream",
     "text": [
      "21\n",
      "500\n",
      "Elon Reeve Musk (/ˈiːlɒn/ EE-lon; born June 28, 1971) is a business magnate and investor.\n"
     ]
    }
   ],
   "source": [
    "# sentence_tokenize\n",
    "sentence = (nltk.sent_tokenize(elon_data))\n",
    "word = (nltk.word_tokenize(elon_data))\n",
    "print(len(nltk.sent_tokenize(elon_data)))\n",
    "print(len(nltk.word_tokenize(elon_data)))\n",
    "print(sentence[0])"
   ]
  },
  {
   "cell_type": "code",
   "execution_count": 11,
   "id": "2f79cc51",
   "metadata": {},
   "outputs": [],
   "source": [
    "for i in range(0,len(sentence)):\n",
    "    sentence[i] = sentence[i].lower()\n",
    "    sentence[i] = re.sub(r'\\W',' ',sentence[i])\n",
    "    sentence[i] = re.sub(' +',' ',sentence[i])"
   ]
  },
  {
   "cell_type": "code",
   "execution_count": 12,
   "id": "d1be759a",
   "metadata": {},
   "outputs": [],
   "source": [
    "stemmer = PorterStemmer()"
   ]
  },
  {
   "cell_type": "code",
   "execution_count": 13,
   "id": "eba54895",
   "metadata": {},
   "outputs": [],
   "source": [
    "stop_words = set(stopwords.words('english'))"
   ]
  },
  {
   "cell_type": "code",
   "execution_count": 14,
   "id": "dd05443e",
   "metadata": {},
   "outputs": [],
   "source": [
    "corpus = []\n",
    "for i in sentence:\n",
    "    words_sentence=\"\"\n",
    "    for j in i.split():\n",
    "        if j not in stop_words:\n",
    "            words = stemmer.stem(j)\n",
    "            words_sentence += words+\" \"\n",
    "    corpus.append(words_sentence)\n",
    "    "
   ]
  },
  {
   "cell_type": "code",
   "execution_count": 15,
   "id": "2cdf29d2",
   "metadata": {},
   "outputs": [
    {
     "data": {
      "text/plain": [
       "['elon reev musk ˈiːlɒn ee lon born june 28 1971 busi magnat investor ',\n",
       " 'founder ceo chief engin spacex angel investor ceo product architect tesla inc owner ceo twitter inc founder bore compani co founder neuralink openai presid philanthrop musk foundat ',\n",
       " 'musk second wealthiest person world accord bloomberg billionair index forb real time billionair list may 2023 primarili ownership stake tesla spacex estim net worth around 167 billion accord bloomberg 176 2 billion accord forb ',\n",
       " '4 5 6 7 musk born pretoria south africa briefli attend univers pretoria move canada age 18 acquir citizenship canadian born mother ',\n",
       " 'two year later matricul queen univers transfer univers pennsylvania receiv bachelor degre econom physic ',\n",
       " 'move california 1995 attend stanford univers ',\n",
       " 'two day drop brother kimbal co found onlin citi guid softwar compani zip2 ',\n",
       " '1999 zip2 acquir compaq 307 million musk co found x com direct bank ',\n",
       " 'x com merg confin 2000 form paypal ebay acquir 1 5 billion 2002 ',\n",
       " '175 8 million musk found spacex 2002 spaceflight servic compani ',\n",
       " '2004 earli investor electr vehicl manufactur tesla motor inc tesla inc ',\n",
       " 'becam chairman product architect assum posit ceo 2008 ',\n",
       " '2006 help creat solarc solar energi compani later acquir tesla becam tesla energi ',\n",
       " '2015 co found openai nonprofit artifici intellig research compani ',\n",
       " 'follow year co found neuralink neurotechnolog compani develop brain comput interfac bore compani tunnel construct compani ',\n",
       " 'musk also propos hyperloop high speed vactrain transport system ',\n",
       " '2022 acquisit twitter 44 billion complet ',\n",
       " 'musk express view made polar figur ',\n",
       " 'critic make unscientif mislead statement includ spread covid 19 misinform ',\n",
       " '2018 u secur exchang commiss sec su musk fals tweet secur fund privat takeov tesla ',\n",
       " 'musk step chairman tesla paid 20 million fine part settlement agreement sec ']"
      ]
     },
     "execution_count": 15,
     "metadata": {},
     "output_type": "execute_result"
    }
   ],
   "source": [
    "corpus"
   ]
  },
  {
   "cell_type": "code",
   "execution_count": 17,
   "id": "c33ec685",
   "metadata": {},
   "outputs": [],
   "source": [
    "vectorizer = CountVectorizer()"
   ]
  },
  {
   "cell_type": "code",
   "execution_count": 18,
   "id": "678aa781",
   "metadata": {},
   "outputs": [],
   "source": [
    "df = vectorizer.fit_transform(corpus)"
   ]
  },
  {
   "cell_type": "code",
   "execution_count": 34,
   "id": "60083c60",
   "metadata": {},
   "outputs": [
    {
     "data": {
      "text/plain": [
       "188"
      ]
     },
     "execution_count": 34,
     "metadata": {},
     "output_type": "execute_result"
    }
   ],
   "source": [
    "len(vectorizer.get_feature_names_out())"
   ]
  },
  {
   "cell_type": "code",
   "execution_count": 22,
   "id": "6882ec49",
   "metadata": {},
   "outputs": [
    {
     "data": {
      "text/plain": [
       "array([[0, 0, 0, 0, 0, 1, 0, 0, 0, 0, 0, 0, 0, 0, 0, 0, 0, 0, 1, 0, 0, 0,\n",
       "        0, 0, 0, 0, 0, 0, 0, 0, 0, 0, 0, 0, 0, 0, 0, 0, 0, 0, 0, 1, 0, 0,\n",
       "        0, 1, 0, 0, 0, 0, 0, 0, 0, 0, 0, 0, 0, 0, 0, 0, 0, 0, 0, 0, 0, 0,\n",
       "        0, 0, 0, 0, 0, 0, 0, 0, 1, 0, 1, 0, 0, 0, 0, 0, 0, 0, 0, 0, 0, 0,\n",
       "        0, 0, 0, 0, 0, 0, 0, 0, 0, 0, 0, 0, 0, 1, 1, 0, 0, 0, 1, 0, 1, 0,\n",
       "        0, 0, 0, 0, 0, 0, 0, 0, 0, 0, 1, 0, 0, 0, 0, 0, 0, 0, 0, 0, 0, 0,\n",
       "        0, 0, 0, 0, 0, 0, 0, 0, 0, 0, 0, 0, 0, 0, 0, 1, 0, 0, 0, 0, 0, 0,\n",
       "        0, 0, 0, 0, 0, 0, 0, 0, 0, 0, 0, 0, 0, 0, 0, 0, 0, 0, 0, 0, 0, 0,\n",
       "        0, 0, 0, 0, 0, 0, 0, 0, 0, 0, 0, 1]], dtype=int64)"
      ]
     },
     "execution_count": 22,
     "metadata": {},
     "output_type": "execute_result"
    }
   ],
   "source": [
    "df[0].toarray()"
   ]
  },
  {
   "cell_type": "code",
   "execution_count": 29,
   "id": "7657f953",
   "metadata": {},
   "outputs": [],
   "source": [
    "tfvectorizer = TfidfVectorizer()"
   ]
  },
  {
   "cell_type": "code",
   "execution_count": 30,
   "id": "ea6a3ce1",
   "metadata": {},
   "outputs": [],
   "source": [
    "df1 = tfvectorizer.fit_transform(corpus)"
   ]
  },
  {
   "cell_type": "code",
   "execution_count": 33,
   "id": "40f6f5a0",
   "metadata": {},
   "outputs": [
    {
     "data": {
      "text/plain": [
       "188"
      ]
     },
     "execution_count": 33,
     "metadata": {},
     "output_type": "execute_result"
    }
   ],
   "source": [
    "len(tfvectorizer.get_feature_names_out())"
   ]
  },
  {
   "cell_type": "code",
   "execution_count": 35,
   "id": "1e73dc54",
   "metadata": {},
   "outputs": [
    {
     "data": {
      "text/plain": [
       "array([[0.        , 0.        , 0.        , 0.        , 0.        ,\n",
       "        0.29288504, 0.        , 0.        , 0.        , 0.        ,\n",
       "        0.        , 0.        , 0.        , 0.        , 0.        ,\n",
       "        0.        , 0.        , 0.        , 0.29288504, 0.        ,\n",
       "        0.        , 0.        , 0.        , 0.        , 0.        ,\n",
       "        0.        , 0.        , 0.        , 0.        , 0.        ,\n",
       "        0.        , 0.        , 0.        , 0.        , 0.        ,\n",
       "        0.        , 0.        , 0.        , 0.        , 0.        ,\n",
       "        0.        , 0.25793556, 0.        , 0.        , 0.        ,\n",
       "        0.29288504, 0.        , 0.        , 0.        , 0.        ,\n",
       "        0.        , 0.        , 0.        , 0.        , 0.        ,\n",
       "        0.        , 0.        , 0.        , 0.        , 0.        ,\n",
       "        0.        , 0.        , 0.        , 0.        , 0.        ,\n",
       "        0.        , 0.        , 0.        , 0.        , 0.        ,\n",
       "        0.        , 0.        , 0.        , 0.        , 0.29288504,\n",
       "        0.        , 0.29288504, 0.        , 0.        , 0.        ,\n",
       "        0.        , 0.        , 0.        , 0.        , 0.        ,\n",
       "        0.        , 0.        , 0.        , 0.        , 0.        ,\n",
       "        0.        , 0.        , 0.        , 0.        , 0.        ,\n",
       "        0.        , 0.        , 0.        , 0.        , 0.        ,\n",
       "        0.        , 0.23313851, 0.29288504, 0.        , 0.        ,\n",
       "        0.        , 0.29288504, 0.        , 0.29288504, 0.        ,\n",
       "        0.        , 0.        , 0.        , 0.        , 0.        ,\n",
       "        0.        , 0.        , 0.        , 0.        , 0.        ,\n",
       "        0.14594254, 0.        , 0.        , 0.        , 0.        ,\n",
       "        0.        , 0.        , 0.        , 0.        , 0.        ,\n",
       "        0.        , 0.        , 0.        , 0.        , 0.        ,\n",
       "        0.        , 0.        , 0.        , 0.        , 0.        ,\n",
       "        0.        , 0.        , 0.        , 0.        , 0.        ,\n",
       "        0.        , 0.        , 0.29288504, 0.        , 0.        ,\n",
       "        0.        , 0.        , 0.        , 0.        , 0.        ,\n",
       "        0.        , 0.        , 0.        , 0.        , 0.        ,\n",
       "        0.        , 0.        , 0.        , 0.        , 0.        ,\n",
       "        0.        , 0.        , 0.        , 0.        , 0.        ,\n",
       "        0.        , 0.        , 0.        , 0.        , 0.        ,\n",
       "        0.        , 0.        , 0.        , 0.        , 0.        ,\n",
       "        0.        , 0.        , 0.        , 0.        , 0.        ,\n",
       "        0.        , 0.        , 0.29288504]])"
      ]
     },
     "execution_count": 35,
     "metadata": {},
     "output_type": "execute_result"
    }
   ],
   "source": [
    "df1[0].toarray()"
   ]
  },
  {
   "cell_type": "code",
   "execution_count": null,
   "id": "716a91ae",
   "metadata": {},
   "outputs": [],
   "source": []
  }
 ],
 "metadata": {
  "kernelspec": {
   "display_name": "Python 3 (ipykernel)",
   "language": "python",
   "name": "python3"
  },
  "language_info": {
   "codemirror_mode": {
    "name": "ipython",
    "version": 3
   },
   "file_extension": ".py",
   "mimetype": "text/x-python",
   "name": "python",
   "nbconvert_exporter": "python",
   "pygments_lexer": "ipython3",
   "version": "3.10.11"
  }
 },
 "nbformat": 4,
 "nbformat_minor": 5
}
